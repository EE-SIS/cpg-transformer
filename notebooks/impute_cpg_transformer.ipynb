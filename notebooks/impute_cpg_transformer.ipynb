{
  "nbformat": 4,
  "nbformat_minor": 0,
  "metadata": {
    "colab": {
      "name": "impute_cpg_transformer.ipynb",
      "provenance": []
    },
    "kernelspec": {
      "display_name": "Python 3",
      "language": "python",
      "name": "python3"
    },
    "language_info": {
      "codemirror_mode": {
        "name": "ipython",
        "version": 3
      },
      "file_extension": ".py",
      "mimetype": "text/x-python",
      "name": "python",
      "nbconvert_exporter": "python",
      "pygments_lexer": "ipython3",
      "version": "3.9.4"
    }
  },
  "cells": [
    {
      "cell_type": "markdown",
      "metadata": {
        "id": "uMd-iukLIb1o"
      },
      "source": [
        "# CpG Transformer imputation notebook\n",
        "\n",
        "Before starting, make sure you are using a GPU runtime: Runtime > Change runtime type > Hardware accelerator > GPU."
      ]
    },
    {
      "cell_type": "code",
      "metadata": {
        "id": "vX2l5FwXIfr9",
        "cellView": "form"
      },
      "source": [
        "#@title Setup\n",
        "\n",
        "!pip install pytorch-lightning==1.3.0 biopython pandas numpy\n",
        "!git clone https://github.com/gdewael/cpg-transformer.git\n",
        "\n",
        "import os\n",
        "os.chdir(f'./cpg-transformer')"
      ],
      "execution_count": null,
      "outputs": []
    },
    {
      "cell_type": "markdown",
      "metadata": {
        "id": "Dzhqz9wjIjLL"
      },
      "source": [
        "## Run this cell and browse to import your dataset (.npz format) AND model checkpoint (.ckpt):"
      ]
    },
    {
      "cell_type": "code",
      "metadata": {
        "id": "7OVKSnvWIkNA"
      },
      "source": [
        "from google.colab import files\n",
        "uploaded = files.upload()"
      ],
      "execution_count": null,
      "outputs": []
    },
    {
      "cell_type": "markdown",
      "metadata": {
        "id": "cQp3kZnyIl_h"
      },
      "source": [
        "## Alternatively, run this cell to use the sample data (Ser dataset): Note that you will still need to add a .ckpt checkpoint file."
      ]
    },
    {
      "cell_type": "code",
      "metadata": {
        "id": "w6RTfQ-UIm55"
      },
      "source": [
        "!gdown --id 14kUIpEaVk92gqhrLIc63ACCTB2YkXI11\n",
        "!gdown --id 19EuaUTIhapXcwJIzMLBYpC1ruwcaKwoE\n",
        "!gdown --id 1GxiiNr4n2K3BJ_89IpQDjOHvZ_lo0MIU"
      ],
      "execution_count": null,
      "outputs": []
    },
    {
      "cell_type": "markdown",
      "metadata": {
        "id": "S-l5jWfaKboI"
      },
      "source": [
        "# Imputation"
      ]
    },
    {
      "cell_type": "code",
      "metadata": {
        "id": "z7YMLCtjKeP8",
        "cellView": "form"
      },
      "source": [
        "#@title Imputation arguments. Additional arguments can be specified in the cell below.\n",
        "\n",
        "\n",
        "X = \"X_ser.npz\" #@param {type:\"string\"}\n",
        "y = \"y_ser.npz\" #@param {type:\"string\"}\n",
        "pos = \"pos_ser.npz\" #@param {type:\"string\"}\n",
        "output = \"output.npz\" #@param {type:\"string\"}\n",
        "model_checkpoint = \"path/to/model.ckpt\" #@param {type:\"string\"}\n",
        "segment_size = 512 #@param {type:\"slider\", min:128, max:1024, step:1}"
      ],
      "execution_count": null,
      "outputs": []
    },
    {
      "cell_type": "markdown",
      "metadata": {
        "id": "VcNqQdRcMnkI"
      },
      "source": [
        "#### You can add additional arguments in the line below. Run `!python impute_genome.py -h` for a detailed overview of options. When changing options, keep in mind the limited amount of resources available on Google Colab."
      ]
    },
    {
      "cell_type": "code",
      "metadata": {
        "id": "RzZE1qqVKgsk"
      },
      "source": [
        "!python impute_genome.py cpg_transformer \"$X\" \"$y\" \"$pos\" \"$output\" --model_checkpoint \"$model_checkpoint\" --segment_size \"$segment_size\" --n_workers 2 --keys None --denoise True"
      ],
      "execution_count": null,
      "outputs": []
    },
    {
      "cell_type": "code",
      "metadata": {
        "id": "8jt3CmbTKtfQ"
      },
      "source": [
        ""
      ],
      "execution_count": null,
      "outputs": []
    }
  ]
}