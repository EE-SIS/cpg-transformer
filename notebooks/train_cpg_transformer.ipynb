{
  "nbformat": 4,
  "nbformat_minor": 5,
  "metadata": {
    "kernelspec": {
      "display_name": "Python 3",
      "language": "python",
      "name": "python3"
    },
    "language_info": {
      "codemirror_mode": {
        "name": "ipython",
        "version": 3
      },
      "file_extension": ".py",
      "mimetype": "text/x-python",
      "name": "python",
      "nbconvert_exporter": "python",
      "pygments_lexer": "ipython3",
      "version": "3.9.4"
    },
    "colab": {
      "name": "train_cpg_transformer.ipynb",
      "provenance": []
    }
  },
  "cells": [
    {
      "cell_type": "code",
      "metadata": {
        "id": "ce90b640-684b-4d67-a8d7-d360a8e97c20"
      },
      "source": [
        "# init"
      ],
      "id": "ce90b640-684b-4d67-a8d7-d360a8e97c20",
      "execution_count": null,
      "outputs": []
    },
    {
      "cell_type": "code",
      "metadata": {
        "id": "0bc8f16c-1131-4186-8052-6976d6f50acf"
      },
      "source": [
        "# test push from github"
      ],
      "id": "0bc8f16c-1131-4186-8052-6976d6f50acf",
      "execution_count": null,
      "outputs": []
    }
  ]
}